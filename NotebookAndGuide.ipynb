{
  "cells": [
    {
      "cell_type": "markdown",
      "metadata": {
        "id": "view-in-github",
        "colab_type": "text"
      },
      "source": [
        "<a href=\"https://colab.research.google.com/github/dilne/Fixing-OOM-in-TensorFlow/blob/main/NotebookAndGuide.ipynb\" target=\"_parent\"><img src=\"https://colab.research.google.com/assets/colab-badge.svg\" alt=\"Open In Colab\"/></a>"
      ]
    },
    {
      "cell_type": "markdown",
      "metadata": {
        "id": "IgXBlBTf8sS_"
      },
      "source": [
        "### Intro\n",
        "OOM errors are the worst! You've got an idea for the coolest AI system, you collect the data, you process the data, you define the architecture, you go to train and you're met with an out of memory error...\n",
        "\n",
        "Fear no more! If you have 10,000 images, just create ten new datasets comprising data from the original dataset. Train your model with the first dataset, save the model, wipe the model from memory, load the model, continue training with the second dataset, and repeat!\n",
        "\n",
        "The following are demonstrated within this notebook:\n",
        "- A dataset of 10,000 greyscale images is loaded. This is done by repeatedly loading a single 512 x 512 greyscale image. If you used 10,000 greyscale images with 512 x 512 resolution and the model in this notebook, training should work up to approximately 12 GB VRAM, working inside Google Colab.\n",
        "- The dataset is split into train and test data\n",
        "- The train dataset is split into segments\n",
        "- The model is defined\n",
        "- The model is complied\n",
        "- The model is trained in batches\n",
        "\n",
        "This notebook will work in Google Colab with the GPU enabled (Runtime > Change runtime type > Hardware Accelerator > GPU), and we'll prove this throughout at the top of each text cell with the stats after running the previous cells:\n",
        "\n",
        "***\n",
        "Sys. RAM: 1.2/12.7 GB, GPU RAM: 0/15 GB, Disk: 25.2/78.2GB\n",
        "***"
      ]
    },
    {
      "cell_type": "code",
      "execution_count": 1,
      "metadata": {
        "id": "wyjJx9wfDylD"
      },
      "outputs": [],
      "source": [
        "import os\n",
        "import gc\n",
        "import cv2\n",
        "import random\n",
        "import numpy as np\n",
        "import pandas as pd\n",
        "import matplotlib.pyplot as plt\n",
        "from sklearn.model_selection import train_test_split\n",
        "\n",
        "from keras import models, layers\n",
        "import tensorflow as tf\n",
        "from tensorflow import keras"
      ]
    },
    {
      "cell_type": "markdown",
      "source": [
        "***\n",
        "Sys. RAM: 1.4/12.7 GB, GPU RAM: 0/15 GB, Disk: 25.2/78.2GB\n",
        "***\n",
        "\n",
        "This is used to \"only grow the memory usage as is needed by the process\": https://www.tensorflow.org/guide/gpu\n"
      ],
      "metadata": {
        "id": "FIauoBBhB78U"
      }
    },
    {
      "cell_type": "code",
      "execution_count": 2,
      "metadata": {
        "colab": {
          "base_uri": "https://localhost:8080/"
        },
        "id": "7JNki7vH8sTG",
        "outputId": "e7a067b3-8e1f-45ec-8718-165e77f301b6"
      },
      "outputs": [
        {
          "output_type": "stream",
          "name": "stdout",
          "text": [
            "1 Physical GPUs, 1 Logical GPUs\n",
            "GPU is available\n"
          ]
        }
      ],
      "source": [
        "gpus = tf.config.list_physical_devices('GPU')\n",
        "if gpus:\n",
        "  try:\n",
        "    # Currently, memory growth needs to be the same across GPUs\n",
        "    for gpu in gpus:\n",
        "      tf.config.experimental.set_memory_growth(gpu, True)\n",
        "    logical_gpus = tf.config.list_logical_devices('GPU')\n",
        "    print(len(gpus), \"Physical GPUs,\", len(logical_gpus), \"Logical GPUs\")\n",
        "  except RuntimeError as e:\n",
        "    # Memory growth must be set before GPUs have been initialized\n",
        "    print(e)\n",
        "\n",
        "if tf.config.list_physical_devices('GPU'):\n",
        "    print(\"GPU is available\")\n",
        "else:\n",
        "    print(\"GPU is not available\")"
      ]
    },
    {
      "cell_type": "markdown",
      "source": [
        "***\n",
        "Sys. RAM: 1.5/12.7 GB, GPU RAM: 0.3/15 GB, Disk: 25.2/78.2GB\n",
        "***"
      ],
      "metadata": {
        "id": "feIkSs32daIr"
      }
    },
    {
      "cell_type": "markdown",
      "metadata": {
        "id": "lxSqWBt4EKIR"
      },
      "source": [
        "### Set Variables"
      ]
    },
    {
      "cell_type": "code",
      "execution_count": 14,
      "metadata": {
        "id": "s85k5g6HEMHR"
      },
      "outputs": [],
      "source": [
        "width = int(512)\n",
        "height = int(512)\n",
        "dims = (width, height)\n",
        "lower = 0\n",
        "upper = 1000\n",
        "data_info = False\n",
        "graph_info = False\n",
        "\n",
        "global num_epochs\n",
        "num_epochs = 2\n",
        "runs = 5"
      ]
    },
    {
      "cell_type": "markdown",
      "metadata": {
        "id": "j_ezGPr5EQIi"
      },
      "source": [
        "### Load Data\n",
        "The data in this GitHub Repository is only one image. We will fabricate a dataset of 5,000 images by loading it 10,000 times. To do this, we simply use the following line:\n",
        "```\n",
        "for i in range(5000):\n",
        "```\n",
        "For your own dataset, you can simply remove this line."
      ]
    },
    {
      "cell_type": "code",
      "execution_count": null,
      "metadata": {
        "id": "dJygS8TGSWuw"
      },
      "outputs": [],
      "source": [
        "X = []\n",
        "y = []\n",
        "\n",
        "data_dir = \"/content/\"\n",
        "for i in range(5000):  # remove this line in real use case\n",
        "  for fname in sorted(os.listdir(data_dir)):\n",
        "    if fname.endswith(\".png\") and not fname.startswith(\".\"):\n",
        "      path = os.path.join(data_dir, fname)\n",
        "      feature = cv2.imread(path, cv2.IMREAD_GRAYSCALE)\n",
        "      X.append((feature/255.).astype(np.float32))\n",
        "      y.append(np.int8(0))"
      ]
    },
    {
      "cell_type": "markdown",
      "source": [
        "***\n",
        "Sys. RAM: 11.8/12.7 GB, GPU RAM: 0.3/15 GB, Disk: 25.2/78.2GB\n",
        "***"
      ],
      "metadata": {
        "id": "leAISdq7doHw"
      }
    },
    {
      "cell_type": "code",
      "execution_count": null,
      "metadata": {
        "id": "r_kNi7Vfh2IY"
      },
      "outputs": [],
      "source": [
        "X = np.array(X, copy=True)\n",
        "y = np.array(y, copy=True)"
      ]
    },
    {
      "cell_type": "code",
      "execution_count": null,
      "metadata": {
        "id": "f1HCOLhEUFp-"
      },
      "outputs": [],
      "source": [
        "np.save(\"Data\\X.npy\", X)\n",
        "np.save(\"Data\\y.npy\", y)"
      ]
    },
    {
      "cell_type": "code",
      "execution_count": null,
      "metadata": {
        "id": "jDytykW5USlg"
      },
      "outputs": [],
      "source": [
        "X = np.load(\"Data\\X.npy\")\n",
        "y = np.load(\"Data\\y.npy\")"
      ]
    },
    {
      "cell_type": "code",
      "source": [
        "print(\"X:\")\n",
        "print(\"Samples: {}, Type: {}, Shape: {}, Min: {}, Max: {}\".format(len(X), X.dtype, X[0].shape, X.min(), X.max()))\n",
        "print()\n",
        "print(\"Y:\")\n",
        "print(\"Samples: {}, Type: {}\".format(len(y), y.dtype))\n",
        "print()\n",
        "print(len(X))\n",
        "print(len(y))"
      ],
      "metadata": {
        "id": "gQlgn4e2IfRX"
      },
      "execution_count": null,
      "outputs": []
    },
    {
      "cell_type": "code",
      "execution_count": null,
      "metadata": {
        "id": "JBp1g_h1WCLt"
      },
      "outputs": [],
      "source": [
        "X_train, X_test, y_train, y_test = train_test_split(X, y, test_size=0.25, random_state=0)\n",
        "\n",
        "print('X_train: ', len(X_train))\n",
        "print('y_train: ', len(y_train))\n",
        "print('X_test:  ', len(X_test))\n",
        "print('y_test:  ', len(y_test))"
      ]
    },
    {
      "cell_type": "code",
      "execution_count": null,
      "metadata": {
        "id": "_ez9udHj8sTS"
      },
      "outputs": [],
      "source": [
        "X_train_split = np.array_split(X_train, 10)\n",
        "y_train_split = np.array_split(y_train, 10)\n",
        "print(f\"Length: {len(X_train_split)}\")\n",
        "print(f\"Length of tenth: {len(X_train_split[0])}\")"
      ]
    },
    {
      "cell_type": "markdown",
      "source": [
        "### Remove Unnecessary Variables"
      ],
      "metadata": {
        "id": "dnnCuA-lGbkQ"
      }
    },
    {
      "cell_type": "code",
      "execution_count": null,
      "metadata": {
        "id": "Uhse51Wo8sTa"
      },
      "outputs": [],
      "source": [
        "del X\n",
        "del y\n",
        "del X_train\n",
        "del y_train\n",
        "gc.collect()"
      ]
    },
    {
      "cell_type": "markdown",
      "source": [
        "## Functions"
      ],
      "metadata": {
        "id": "fFOahY9Vh0mW"
      }
    },
    {
      "cell_type": "markdown",
      "source": [
        "### Preprocess Data Function"
      ],
      "metadata": {
        "id": "83plQaVlHwXr"
      }
    },
    {
      "cell_type": "code",
      "source": [
        "def loadData(lower, upper, data_info):\n",
        "  X = []\n",
        "  y = []\n",
        "\n",
        "  cnt = 0\n",
        "  data_dir = \"/content/drive/MyDrive/GitHub/Fixing-OOM-in-TensorFlow/DummyData\"\n",
        "  limit = len(os.listdir(data_dir))\n",
        "  diff = upper - lower\n",
        "  extra = upper - limit\n",
        "  print(f\"Processing data chunk {lower} to {extra if upper > limit else upper} of {len(sorted(os.listdir(data_dir)))}...\")\n",
        "\n",
        "  if upper > limit:\n",
        "    for fname in sorted(os.listdir(data_dir))[lower:limit]:\n",
        "      if fname.endswith(\".png\") and not fname.startswith(\".\"):\n",
        "        path = os.path.join(data_dir, fname)\n",
        "        feature = cv2.imread(path, cv2.IMREAD_GRAYSCALE)\n",
        "        X.append((feature/255.).astype(np.float32))\n",
        "        y.append(np.int8(0))\n",
        "\n",
        "    lower = 0\n",
        "    upper = extra\n",
        "    for fname in sorted(os.listdir(data_dir))[lower:upper]:\n",
        "      if fname.endswith(\".png\") and not fname.startswith(\".\"):\n",
        "        path = os.path.join(data_dir, fname)\n",
        "        feature = cv2.imread(path, cv2.IMREAD_GRAYSCALE)\n",
        "        X.append((feature/255.).astype(np.float32))\n",
        "        y.append(np.int8(0))\n",
        "\n",
        "    lower = lower + extra\n",
        "    upper = upper+diff\n",
        "  else:\n",
        "    for fname in sorted(os.listdir(data_dir))[lower:upper]:\n",
        "      if fname.endswith(\".png\") and not fname.startswith(\".\"):\n",
        "        path = os.path.join(data_dir, fname)\n",
        "        feature = cv2.imread(path, cv2.IMREAD_GRAYSCALE)\n",
        "        X.append((feature/255.).astype(np.float32))\n",
        "        y.append(np.int8(0))\n",
        "\n",
        "    lower = lower+diff\n",
        "    upper = upper+diff\n",
        "\n",
        "  X = np.array(X, copy=True)\n",
        "  y = np.array(y, copy=True)\n",
        "  if data_info == True:\n",
        "    print(\"X:\")\n",
        "    print(f\"Samples: {len(X)}, Type: {X.dtype}, Shape: {X[0].shape}, Min: {X.min()}, Max: {X.max()}\\n\")\n",
        "    print(\"Y:\")\n",
        "    print(f\"Samples: {len(y)}, Type: {y.dtype}\\n\")\n",
        "    print(len(X))\n",
        "    print(len(y))\n",
        "\n",
        "  X_train, X_test, y_train, y_test = train_test_split(X, y, test_size=0.25, random_state=0)\n",
        "  if data_info == True:\n",
        "    print(f\"X_train: {len(X_train)}\")\n",
        "    print(f\"y_train: {len(y_train)}\")\n",
        "    print(f\"X_test:  {len(X_test)}\")\n",
        "    print(f\"y_test:  {len(y_test)}\")\n",
        "\n",
        "  X_train_split = np.array_split(X_train, runs)\n",
        "  y_train_split = np.array_split(y_train, runs)\n",
        "  if data_info == True:\n",
        "    print(f\"Length: {len(X_train_split)}\")\n",
        "    print(f\"Length of tenth: {len(X_train_split[0])}\")\n",
        "\n",
        "  del X\n",
        "  del y\n",
        "  del X_train\n",
        "  del y_train\n",
        "  gc.collect()\n",
        "\n",
        "  print(f\"Data processed successfully\\n\")\n",
        "\n",
        "  return lower, upper, X_test, y_test, X_train_split, y_train_split"
      ],
      "metadata": {
        "id": "yFo0lszrFPWO"
      },
      "execution_count": 13,
      "outputs": []
    },
    {
      "cell_type": "markdown",
      "source": [
        "### Define Model Function"
      ],
      "metadata": {
        "id": "29kt2DwyCp1a"
      }
    },
    {
      "cell_type": "code",
      "execution_count": 5,
      "metadata": {
        "id": "WRbAf0_JYUY8"
      },
      "outputs": [],
      "source": [
        "def define_model():\n",
        "  model = models.Sequential()\n",
        "  model.add(layers.Conv2D(8, (3, 3), activation='relu', input_shape=(width, height, 1)))\n",
        "  model.add(layers.MaxPooling2D((2, 2)))\n",
        "  model.add(layers.Conv2D(16, (3, 3), activation='relu'))\n",
        "  model.add(layers.MaxPooling2D((2, 2)))\n",
        "  model.add(layers.Conv2D(32, (3, 3), activation='relu'))\n",
        "  model.add(layers.MaxPooling2D((2, 2)))\n",
        "  model.add(layers.Conv2D(64, (3, 3), activation='relu'))\n",
        "  model.add(layers.Flatten())\n",
        "  model.add(layers.Dense(128, activation='relu'))\n",
        "  model.add(layers.Dense(2, activation='softmax'))\n",
        "\n",
        "  return(model)"
      ]
    },
    {
      "cell_type": "markdown",
      "source": [
        "### Compile Model Function"
      ],
      "metadata": {
        "id": "wFevvn2RGAYb"
      }
    },
    {
      "cell_type": "code",
      "execution_count": 6,
      "metadata": {
        "id": "jjvPFypQWjZE"
      },
      "outputs": [],
      "source": [
        "def compile_model(model):\n",
        "  model.compile(optimizer=tf.keras.optimizers.Adam(),\n",
        "                loss=tf.keras.losses.SparseCategoricalCrossentropy(from_logits=False),\n",
        "                metrics=['accuracy'])\n",
        "    \n",
        "  return(model)"
      ]
    },
    {
      "cell_type": "markdown",
      "source": [
        "### Display Accuracy Function"
      ],
      "metadata": {
        "id": "dVicGyPtGEPU"
      }
    },
    {
      "cell_type": "code",
      "source": [
        "  def display_accuracy(results):  \n",
        "    x = np.empty((0))\n",
        "    for i in range(num_epochs):\n",
        "        x = np.append(x, i+1)\n",
        "    fig, axis = plt.subplots(1, 2, figsize=(20, 5))\n",
        "    axis[0].plot(x, results.history[\"loss\"], color='r', label = 'train loss')\n",
        "    axis[0].plot(x, results.history[\"val_loss\"], color='b', label = 'val loss')\n",
        "    axis[0].set_title('Loss Comparison')\n",
        "    axis[0].legend()\n",
        "    axis[0].set_ylim([0,0.1e-0])\n",
        "    axis[1].plot(x, results.history[\"accuracy\"], color='r', label = 'train accuracy')\n",
        "    axis[1].plot(x, results.history[\"val_accuracy\"], color='b', label = 'val accuracy')\n",
        "    axis[1].set_title('Accuracy Comparison')\n",
        "    axis[1].legend()\n",
        "    axis[1].set_ylim([0.9, 1])\n",
        "    plt.show()"
      ],
      "metadata": {
        "id": "9qPLvYN5FHTE"
      },
      "execution_count": 7,
      "outputs": []
    },
    {
      "cell_type": "markdown",
      "source": [
        "### Define Callback\n",
        "Here we use a callback function to save the model at the end of the last epoch within each run. This way, the model weights are saved so they can be loaded again after garbage collection and training can be continued on the new data.\n",
        "\n",
        "We have an if statement that checks if we're on the final epoch, if it is, the model is saved to a file path containing \"final\", in all other instances, the file path contains \"temp\"."
      ],
      "metadata": {
        "id": "XdivO-DpGPm-"
      }
    },
    {
      "cell_type": "code",
      "execution_count": 8,
      "metadata": {
        "id": "1GzSacwelNGS"
      },
      "outputs": [],
      "source": [
        "class SaveModelCallback(tf.keras.callbacks.Callback):\n",
        "    def __init__(self, i):\n",
        "        self.i = i\n",
        "    \n",
        "    def on_epoch_end(self, epoch, logs={}):\n",
        "      if epoch == num_epochs-1:\n",
        "        global save_path_h5\n",
        "        if i == runs - 1: folder = \"final\"\n",
        "        else: folder = \"temp\"\n",
        "        save_path_h5 = f\"\\content\\Model Saves\\{folder}\\h5\\model_save.h5\"\n",
        "        model.save(save_path_h5)\n",
        "\n",
        "        # you might want to save as .pb too,\n",
        "        # but you can't load a pb to continue training\n",
        "        # so it's only useful for a final model save\n",
        "        # global save_path_pb\n",
        "        # save_path_pb = f\"\\Model Saves\\final\\pb\\model_save\"\n",
        "        # tf.saved_model.save(model, save_path_pb)"
      ]
    },
    {
      "cell_type": "markdown",
      "source": [
        "## Train Model"
      ],
      "metadata": {
        "id": "YcIkBj7HGV5h"
      }
    },
    {
      "cell_type": "code",
      "execution_count": 15,
      "metadata": {
        "id": "RUXXMFwbWlwC",
        "colab": {
          "base_uri": "https://localhost:8080/"
        },
        "outputId": "e5e09378-b980-4589-962b-e19aa89bd889"
      },
      "outputs": [
        {
          "output_type": "stream",
          "name": "stdout",
          "text": [
            "Processing data chunk 0 to 1000 of 3010...\n",
            "Data processed successfully\n",
            "\n",
            "Run 1/5\n",
            "Epoch 1/2\n",
            " 4/75 [>.............................] - ETA: 1s - loss: 0.1783 - accuracy: 0.7500     "
          ]
        },
        {
          "output_type": "stream",
          "name": "stderr",
          "text": [
            "WARNING:tensorflow:Callback method `on_train_batch_end` is slow compared to the batch time (batch time: 0.0041s vs `on_train_batch_end` time: 0.0119s). Check your callbacks.\n"
          ]
        },
        {
          "output_type": "stream",
          "name": "stdout",
          "text": [
            "75/75 [==============================] - 2s 23ms/step - loss: 0.0095 - accuracy: 0.9867 - val_loss: 0.0000e+00 - val_accuracy: 1.0000\n",
            "Epoch 2/2\n",
            "75/75 [==============================] - 3s 36ms/step - loss: 0.0000e+00 - accuracy: 1.0000 - val_loss: 0.0000e+00 - val_accuracy: 1.0000\n",
            "\n",
            "Processing data chunk 1000 to 2000 of 3010...\n",
            "Data processed successfully\n",
            "\n",
            "Run 2/5\n",
            "Epoch 1/2\n",
            " 5/75 [=>............................] - ETA: 1s - loss: 0.0000e+00 - accuracy: 1.0000 "
          ]
        },
        {
          "output_type": "stream",
          "name": "stderr",
          "text": [
            "WARNING:tensorflow:Callback method `on_train_batch_end` is slow compared to the batch time (batch time: 0.0041s vs `on_train_batch_end` time: 0.0115s). Check your callbacks.\n"
          ]
        },
        {
          "output_type": "stream",
          "name": "stdout",
          "text": [
            "75/75 [==============================] - 2s 23ms/step - loss: 0.0000e+00 - accuracy: 1.0000 - val_loss: 0.0000e+00 - val_accuracy: 1.0000\n",
            "Epoch 2/2\n",
            "75/75 [==============================] - 3s 38ms/step - loss: 0.0000e+00 - accuracy: 1.0000 - val_loss: 0.0000e+00 - val_accuracy: 1.0000\n",
            "\n",
            "Processing data chunk 2000 to 3000 of 3010...\n",
            "Data processed successfully\n",
            "\n",
            "Run 3/5\n",
            "Epoch 1/2\n",
            " 4/75 [>.............................] - ETA: 1s - loss: 0.0000e+00 - accuracy: 1.0000 "
          ]
        },
        {
          "output_type": "stream",
          "name": "stderr",
          "text": [
            "WARNING:tensorflow:Callback method `on_train_batch_end` is slow compared to the batch time (batch time: 0.0034s vs `on_train_batch_end` time: 0.0117s). Check your callbacks.\n"
          ]
        },
        {
          "output_type": "stream",
          "name": "stdout",
          "text": [
            "75/75 [==============================] - 2s 23ms/step - loss: 0.0000e+00 - accuracy: 1.0000 - val_loss: 0.0000e+00 - val_accuracy: 1.0000\n",
            "Epoch 2/2\n",
            "75/75 [==============================] - 3s 38ms/step - loss: 0.0000e+00 - accuracy: 1.0000 - val_loss: 0.0000e+00 - val_accuracy: 1.0000\n",
            "\n",
            "Processing data chunk 3000 to 990 of 3010...\n",
            "Data processed successfully\n",
            "\n",
            "Run 4/5\n",
            "Epoch 1/2\n",
            " 4/75 [>.............................] - ETA: 1s - loss: 0.0000e+00 - accuracy: 1.0000 "
          ]
        },
        {
          "output_type": "stream",
          "name": "stderr",
          "text": [
            "WARNING:tensorflow:Callback method `on_train_batch_end` is slow compared to the batch time (batch time: 0.0035s vs `on_train_batch_end` time: 0.0119s). Check your callbacks.\n"
          ]
        },
        {
          "output_type": "stream",
          "name": "stdout",
          "text": [
            "75/75 [==============================] - 2s 25ms/step - loss: 0.0000e+00 - accuracy: 1.0000 - val_loss: 0.0000e+00 - val_accuracy: 1.0000\n",
            "Epoch 2/2\n",
            "75/75 [==============================] - 3s 35ms/step - loss: 0.0000e+00 - accuracy: 1.0000 - val_loss: 0.0000e+00 - val_accuracy: 1.0000\n",
            "\n",
            "Processing data chunk 990 to 1990 of 3010...\n",
            "Data processed successfully\n",
            "\n",
            "Run 5/5\n",
            "Epoch 1/2\n",
            " 4/75 [>.............................] - ETA: 1s - loss: 0.0000e+00 - accuracy: 1.0000 "
          ]
        },
        {
          "output_type": "stream",
          "name": "stderr",
          "text": [
            "WARNING:tensorflow:Callback method `on_train_batch_end` is slow compared to the batch time (batch time: 0.0037s vs `on_train_batch_end` time: 0.0117s). Check your callbacks.\n"
          ]
        },
        {
          "output_type": "stream",
          "name": "stdout",
          "text": [
            "75/75 [==============================] - 2s 26ms/step - loss: 0.0000e+00 - accuracy: 1.0000 - val_loss: 0.0000e+00 - val_accuracy: 1.0000\n",
            "Epoch 2/2\n",
            "75/75 [==============================] - 2s 33ms/step - loss: 0.0000e+00 - accuracy: 1.0000 - val_loss: 0.0000e+00 - val_accuracy: 1.0000\n"
          ]
        }
      ],
      "source": [
        "lower, upper, X_test, y_test, X_train_split, y_train_split = loadData(lower, upper, data_info)\n",
        "results_list = []\n",
        "model = define_model()\n",
        "model = compile_model(model)\n",
        "\n",
        "for i in range(runs):\n",
        "    if i != 0:\n",
        "        print()\n",
        "        del model\n",
        "        tf.keras.backend.clear_session()\n",
        "        gc.collect()\n",
        "        model = tf.keras.models.load_model(save_path_h5)\n",
        "        lower, upper, X_test, y_test, X_train_split, y_train_split = loadData(lower, upper, data_info)\n",
        "        model = compile_model(model)\n",
        "    print(f\"Run {i+1}/{runs}\")\n",
        "\n",
        "\n",
        "    results = model.fit(X_train_split[i], y_train_split[i], batch_size=2, epochs=num_epochs, \n",
        "                        validation_data=(X_test, y_test), shuffle=True, verbose=1,\n",
        "                        callbacks=[SaveModelCallback(i)])\n",
        "    results_list.append(results)\n",
        "\n",
        "    if graph_info == True:\n",
        "      display_accuracy(results)"
      ]
    },
    {
      "cell_type": "markdown",
      "metadata": {
        "id": "-jp68jbL8sTf"
      },
      "source": [
        "### Accuracy over all epochs"
      ]
    },
    {
      "cell_type": "code",
      "execution_count": 16,
      "metadata": {
        "id": "Y24Jfn678sTf",
        "colab": {
          "base_uri": "https://localhost:8080/",
          "height": 336
        },
        "outputId": "25da6be7-bb44-4aff-e1fe-f6b317d7b5de"
      },
      "outputs": [
        {
          "output_type": "display_data",
          "data": {
            "text/plain": [
              "<Figure size 1440x360 with 2 Axes>"
            ],
            "image/png": "[encoded data removed]"
          },
          "metadata": {
            "needs_background": "light"
          }
        }
      ],
      "source": [
        "merged_results = pd.concat([pd.DataFrame(result.history) for result in results_list], ignore_index=True)\n",
        "\n",
        "x = np.arange(1,len(merged_results)+1)\n",
        "fig, axis = plt.subplots(1, 2, figsize=(20, 5))\n",
        "axis[0].plot(x, merged_results[\"loss\"], color='r', label = 'train loss')\n",
        "axis[0].plot(x, merged_results[\"val_loss\"], color='b', label = 'val loss')\n",
        "axis[0].set_title('Loss Comparison')\n",
        "axis[0].legend()\n",
        "axis[0].set_ylim([0,0.3])\n",
        "axis[1].plot(x, merged_results[\"accuracy\"], color='r', label = 'train accuracy')\n",
        "axis[1].plot(x, merged_results[\"val_accuracy\"], color='b', label = 'val accuracy')\n",
        "axis[1].set_title('Accuracy Comparison')\n",
        "axis[1].legend()\n",
        "axis[1].set_ylim([0.95, 1])\n",
        "plt.show()"
      ]
    }
  ],
  "metadata": {
    "accelerator": "GPU",
    "colab": {
      "provenance": [],
      "collapsed_sections": [
        "j_ezGPr5EQIi",
        "dnnCuA-lGbkQ",
        "29kt2DwyCp1a",
        "wFevvn2RGAYb",
        "dVicGyPtGEPU",
        "XdivO-DpGPm-",
        "-jp68jbL8sTf"
      ],
      "include_colab_link": true
    },
    "gpuClass": "standard",
    "kernelspec": {
      "display_name": "Python 3 (ipykernel)",
      "language": "python",
      "name": "python3"
    },
    "language_info": {
      "codemirror_mode": {
        "name": "ipython",
        "version": 3
      },
      "file_extension": ".py",
      "mimetype": "text/x-python",
      "name": "python",
      "nbconvert_exporter": "python",
      "pygments_lexer": "ipython3",
      "version": "3.7.11"
    },
    "vscode": {
      "interpreter": {
        "hash": "4684fb392852e7cb15574279b6ba6a0ee8324bffb00fe9344e9eee18b2d0f17b"
      }
    }
  },
  "nbformat": 4,
  "nbformat_minor": 0
}